{
 "cells": [
  {
   "cell_type": "markdown",
   "metadata": {},
   "source": [
    "<div dir=\"rtl\">مرحله ۱: بارگذاری و پیش‌پردازش داده‌های آزمون MNIST\n",
    "\n",
    "۱. ***وارد کردن کتابخانه‌های مورد نیاز***: ما با وارد کردن کتابخانه‌های لازم از کتابخانه‌های Keras و TensorFlow شروع خواهیم کرد.\n",
    "\n",
    "۲. ***بارگذاری داده‌های MNIST***: ما داده‌های مجموعه MNIST را بارگذاری خواهیم کرد، به‌طور خاص داده‌های آزمون.\n",
    "\n",
    "۳. ***پیش‌پردازش داده***: تصاویر آزمون به شکل مورد نیاز تغییر شکل داده و نرمال‌سازی خواهند شد."
   ]
  },
  {
   "cell_type": "markdown",
   "metadata": {},
   "source": [
    "#### Step 1: Load and Preprocess MNIST Test Data\n",
    "1. ***Import Required Libraries***: We'll start by importing the necessary libraries from Keras and TensorFlow.\n",
    "\n",
    "2. ***Load MNIST Data***: We will load the MNIST dataset, specifically the test data.\n",
    "\n",
    "3. ***Preprocess the Data***: The test images will be reshaped and normalized."
   ]
  },
  {
   "cell_type": "code",
   "execution_count": null,
   "metadata": {},
   "outputs": [],
   "source": [
    "from keras.datasets import mnist\n",
    "import tensorflow as tf\n",
    "\n",
    "# Load MNIST test data\n",
    "(_, _), (test_images, _) = mnist.load_data()\n",
    "\n",
    "# Reshape and normalize test images\n",
    "test_images = test_images.reshape(test_images.shape[0], -1)\n",
    "test_images = test_images.astype('float32') / 255.0\n"
   ]
  },
  {
   "cell_type": "markdown",
   "metadata": {},
   "source": [
    "<div dir=\"rtl\">مرحله ۲: بارگذاری مدل اتوانکودر و بازسازی تصاویر\n",
    "1. ***بارگذاری مدل اتوانکودر پیش‌آموزش داده شده:*** ما از TensorFlow برای بارگذاری مدل از فایل 'mnist_AE.h5' استفاده خواهیم کرد.\n",
    "\n",
    "2. ***بازسازی تصاویر:*** از مدل اتوانکودر برای بازسازی تصاویر آزمون استفاده کنید."
   ]
  },
  {
   "cell_type": "markdown",
   "metadata": {},
   "source": [
    "#### Step 2: Load the Autoencoder Model and Reconstruct Images\n",
    "1. ***Load Pre-trained Autoencoder:*** We'll use TensorFlow to load the model from the 'mnist_AE.h5' file.\n",
    "\n",
    "2. ***Reconstruct Images:*** Use the autoencoder model to reconstruct the test images."
   ]
  },
  {
   "cell_type": "code",
   "execution_count": null,
   "metadata": {},
   "outputs": [],
   "source": [
    "# Load the pre-trained autoencoder model\n",
    "autoencoder = tf.keras.models.load_model('mnist_AE.h5')\n",
    "\n",
    "# Reconstruct the test images\n",
    "reconstructed_images = autoencoder.predict(test_images)"
   ]
  },
  {
   "cell_type": "markdown",
   "metadata": {},
   "source": [
    "<div dir=\"rtl\">گام 3: نمودار تصاویر اصلی و بازسازی شده\n",
    "\n",
    "1. ***نمودار نمونه‌ها:*** چهار نمونه از تصاویر تست را انتخاب کنید و تصاویر بازسازی شده متناظر به همراه آن‌ها را انتخاب کنید. آن‌ها را به صورت کنار هم برای مقایسه نمایش دهید."
   ]
  },
  {
   "cell_type": "markdown",
   "metadata": {},
   "source": [
    "#### Step 3: Plot Original and Reconstructed Images\n",
    "1. ***Plot Samples:*** Select four samples from test_images and their corresponding reconstructed images. Plot them side by side for comparison."
   ]
  },
  {
   "cell_type": "code",
   "execution_count": null,
   "metadata": {},
   "outputs": [],
   "source": [
    "import matplotlib.pyplot as plt\n",
    "\n",
    "# Function to plot images\n",
    "def plot_images(original, reconstructed, n=4):\n",
    "    plt.figure(figsize=(10, 4))\n",
    "    for i in range(n):\n",
    "        # Display original\n",
    "        ax = plt.subplot(2, n, i + 1)\n",
    "        plt.imshow(original[i].reshape(28, 28))\n",
    "        plt.gray()\n",
    "        ax.get_xaxis().set_visible(False)\n",
    "        ax.get_yaxis().set_visible(False)\n",
    "\n",
    "        # Display reconstruction\n",
    "        ax = plt.subplot(2, n, i + 1 + n)\n",
    "        plt.imshow(reconstructed[i].reshape(28, 28))\n",
    "        plt.gray()\n",
    "        ax.get_xaxis().set_visible(False)\n",
    "        ax.get_yaxis().set_visible(False)\n",
    "    plt.show()\n",
    "\n",
    "# Plotting the original and reconstructed images\n",
    "plot_images(test_images, reconstructed_images)\n"
   ]
  },
  {
   "cell_type": "markdown",
   "metadata": {},
   "source": [
    "<div dir=\"rtl\">مرحله 4: محاسبه خطای میانگین مربعی (MSE)\n",
    "\n",
    "1. ***نوشتن تابع برای محاسبه MSE:*** یک تابع سفارشی پیاده‌سازی کنید تا MSE بین تصاویر اصلی و بازسازی شده را محاسبه کند.\n",
    "\n",
    "2. ***محاسبه MSE برای تمام تصاویر:*** از تابع برای محاسبه MSE برای هر جفت تصویر اصلی و بازسازی شده استفاده کنید.\n",
    "\n",
    "3. ***رسم نمودار توزیع مقادیر MSE:*** در نهایت، یک نمودار توزیع مقادیر MSE را رسم کنید تا توزیع مقادیر MSE را به صورت یک هیستوگرام مشاهده کنید."
   ]
  },
  {
   "cell_type": "markdown",
   "metadata": {},
   "source": [
    "#### Step 4: Calculate Mean Squared Error (MSE)\n",
    "1. ***Write a Function to Calculate MSE:*** Implement a custom function to compute the MSE between the original and reconstructed images.\n",
    "\n",
    "2. ***Calculate MSE for All Images:*** Use the function to calculate the MSE for each pair of original and reconstructed images.\n",
    "\n",
    "3. ***Plot Histogram of MSE Values:*** Finally, plot a histogram to visualize the distribution of MSE values."
   ]
  },
  {
   "cell_type": "code",
   "execution_count": null,
   "metadata": {},
   "outputs": [],
   "source": [
    "import numpy as np\n",
    "\n",
    "# Function to calculate MSE\n",
    "def calculate_mse(original, reconstructed):\n",
    "    return np.mean(np.square(original - reconstructed), axis=1)\n",
    "\n",
    "# Calculate MSE for all images\n",
    "mse_values = calculate_mse(test_images, reconstructed_images)\n",
    "\n",
    "# Plot histogram of MSE values\n",
    "plt.hist(mse_values, bins=50)\n",
    "plt.xlabel('MSE Value')\n",
    "plt.ylabel('Frequency')\n",
    "plt.title('Histogram of MSE Values')\n",
    "plt.show()\n"
   ]
  },
  {
   "cell_type": "markdown",
   "metadata": {},
   "source": [
    "#### Step 5: Kolmogorov-Smirnov Goodness-of-Fit Test\n",
    "1. ***Calculate Sample Mean and Standard Deviation:*** Compute these statistics for the MSE values.\n",
    "\n",
    "2. ***Perform the Test:*** Use the scipy.stats library to conduct the Kolmogorov-Smirnov test comparing the MSE values against a normal distribution"
   ]
  },
  {
   "cell_type": "code",
   "execution_count": null,
   "metadata": {},
   "outputs": [],
   "source": [
    "from scipy import stats\n",
    "\n",
    "# Calculate sample mean and standard deviation\n",
    "mean_mse = np.mean(mse_values)\n",
    "std_mse = np.std(mse_values)\n",
    "\n",
    "# Perform Kolmogorov-Smirnov test\n",
    "ks_statistic, p_value = stats.kstest(mse_values, 'norm', args=(mean_mse, std_mse))\n",
    "\n",
    "print(f'KS Statistic: {ks_statistic}')\n",
    "print(f'P-Value: {p_value}')\n"
   ]
  },
  {
   "cell_type": "markdown",
   "metadata": {},
   "source": [
    "<div dir=\"rtl\">برای تشخیص اینکه آیا داده‌های خطای میانگین مربعه (MSE) دنبال یک توزیع نرمال با پارامترهای تخمین زده شده می‌آید یا خیر، از تست کولموگروف-اسمیرنوف (KS) استفاده می‌شود. این تست توزیع تجربی داده‌ها را با یک توزیع مشخص مقایسه می‌کند، در این مورد توزیع نرمال با میانگین تخمین زده شده (mean) و انحراف معیار تخمین زده شده (std).\n",
    "\n",
    "نتیجه تست KS شامل یک آمار KS و یک مقدار p است. آمار KS فاصله بین تابع توزیع تجربی داده‌ها و تابع توزیع تجمعی توزیع مرجع را اندازه‌گیری می‌کند. مقدار p احتمال دریافت نتایج آزمون حداقل به اندازه نتایج مشاهده شده تحت فرض صفر را نشان می‌دهد.\n",
    "\n",
    "فرض صفر برای این آزمون این است که داده‌ها دنبال توزیع نرمال مشخص شده می‌گردند. تصمیم برای پذیرش یا رد این فرض معمولاً بر اساس مقدار p اتخاذ می‌شود:\n",
    "\n",
    "- اگر مقدار p کمتر از یک سطح اهمیت مشخص‌شده باشد (معمولاً 0.05)، فرض صفر رد می‌شود. این بدان معناست که داده‌ها دنبال توزیع نرمال مشخص‌شده نمی‌آیند.\n",
    "- اگر مقدار p بیشتر از سطح اهمیت باشد، نمی‌توان فرض صفر را رد کرد. این نشان می‌دهد که داده‌ها ممکن است دنبال توزیع نرمال مشخص‌شده باشند."
   ]
  },
  {
   "cell_type": "markdown",
   "metadata": {},
   "source": [
    "<div dir=\"rtl\">برای تعیین اینکه داده‌های خطای میانگین مربعی (MSE) از توزیع نرمال با پارامترهای تخمین‌زده براساس مقدار p-value حاصل از آزمون Kolmogorov-Smirnov (KS) پیروی می‌کنند یا خیر، معمولاً مراحل زیر را دنبال خواهید کرد:\n",
    "\n",
    "۱. انجام آزمون KS: این آزمون داده‌های نمونه شما (در این مورد، داده‌های MSE) را با یک توزیع احتمال مشخص (در اینجا، یک توزیع نرمال با میانگین و انحراف معیار تخمین‌زده) مقایسه می‌کند. آمار آزمون (ks_statistic) فاصله بین تابع توزیع تجربی نمونه و تابع توزیع تجمعی توزیع مرجع را اندازه‌گیری می‌کند.\n",
    "\n",
    "۲. تفسیر مقدار p-value: مقدار p-value حاصل از آزمون KS احتمال مشاهده آمار آزمون مانند مقدار مشاهده شده یا مقادیری بیشتر از آن تحت فرض اولیه را نشان می‌دهد. در این زمینه، فرض اولیه این است که داده‌های نمونه از توزیع نرمال مشخص دنبال می‌کنند.\n",
    "\n",
    "۳. قاعده تصمیم‌گیری:\n",
    "\n",
    "- اگر مقدار p-value کمتر یا مساوی یک سطح معناداری انتخاب شده (معمولاً 0.05) باشد، شما فرض اولیه را رد می‌کنید. این به معنای این است که داده‌ها از توزیع نرمال مشخص دنبال نمی‌کنند.\n",
    "- اگر مقدار p-value بیشتر از سطح معناداری باشد، شما نمی‌توانید فرض اولیه را رد کنید. این نشان می‌دهد که داده‌ها با توزیع نرمال مشخص دنبال می‌کنند.\n",
    "\n",
    "بر اساس مقدار p-value خود، آن را با سطح معناداری خود (معمولاً 0.05) مقایسه کنید. اگر p_value <= 0.05 باشد، داده‌های MSE احتمالاً دنبال توزیع نرمال مشخص شده نمی‌شوند. اگر p_value > 0.05 باشد، شواهد کافی برای نتیجه گیری از اینکه داده‌ها از توزیع نرمال دنبال نمی‌کنند، وجود ندارد و می‌توان نتیجه داد که داده‌ها از آن دنبال می‌کنند."
   ]
  },
  {
   "cell_type": "markdown",
   "metadata": {},
   "source": [
    "To determine whether the Mean Squared Error (MSE) data follows a normal distribution with the estimated parameters, the Kolmogorov-Smirnov (KS) test is used. This test compares the empirical distribution of the data with a specified distribution, in this case, a normal distribution with the estimated mean (mean) and standard deviation (std).\n",
    "\n",
    "The result of the KS test is a KS statistic and a p-value. The KS statistic quantifies the distance between the empirical distribution function of the data and the cumulative distribution function of the reference distribution. The p-value indicates the probability of obtaining test results at least as extreme as the observed results under the null hypothesis.\n",
    "\n",
    "The null hypothesis for this test is that the data follows the specified normal distribution. The decision to accept or reject this hypothesis is typically based on the p-value:\n",
    "\n",
    "If the p-value is less than a predefined significance level (commonly 0.05), the null hypothesis is rejected. This means the data does not follow the specified normal distribution.\n",
    "If the p-value is greater than the significance level, the null hypothesis cannot be rejected. This suggests that the data could follow the specified normal distribution.\n"
   ]
  },
  {
   "cell_type": "markdown",
   "metadata": {},
   "source": [
    "To determine whether the MSE (Mean Squared Error) data follows a normal distribution with the estimated parameters based on the obtained p-value from the Kolmogorov-Smirnov (KS) test, you will typically follow these steps:\n",
    "\n",
    "Perform the KS Test: This test compares your sample data (in this case, the MSE data) to a specified probability distribution (here, a normal distribution with estimated mean and standard deviation). The test statistic (ks_statistic) measures the distance between the empirical distribution function of the sample and the cumulative distribution function of the reference distribution.\n",
    "\n",
    "Interpret the P-Value: The p-value obtained from the KS test indicates the probability of observing a test statistic as extreme as, or more extreme than, the observed value under the null hypothesis. In this context, the null hypothesis is that the sample data follows the specified normal distribution.\n",
    "\n",
    "Decision Rule:\n",
    "\n",
    "If the p-value is less than or equal to a chosen significance level (commonly 0.05), you reject the null hypothesis. This means the data does not follow the specified normal distribution.\n",
    "If the p-value is greater than the significance level, you fail to reject the null hypothesis. This suggests that the data is consistent with the specified normal distribution.\n",
    "Based on your p-value, compare it to your significance level (usually 0.05). If p_value <= 0.05, the MSE data is likely not following the specified normal distribution. If p_value > 0.05, the evidence is not strong enough to conclude that the data does not follow the normal distribution, and it can be accepted that it does."
   ]
  },
  {
   "cell_type": "markdown",
   "metadata": {},
   "source": [
    "+ یادداشت 1: از کد ارائه شده در ابتدای کد خود برای اطمینان از ایجاد مقادیر تصادفی یکسان استفاده کنید.\n",
    "+ تفسیر: نتایج آزمون کولموگروف-اسمیرنوف به شما کمک می کند تا درک کنید که مقادیر MSE به چه اندازه به توزیع نرمال پیروی می کنند."
   ]
  },
  {
   "cell_type": "markdown",
   "metadata": {},
   "source": [
    "## Final Notes\n",
    "+ Note 1: Ensure consistent random values using the provided code snippet at the beginning of your code.\n",
    "+ Interpretation: The Kolmogorov-Smirnov test results will help you understand how well the MSE values follow a normal distribution.\n"
   ]
  }
 ],
 "metadata": {
  "kernelspec": {
   "display_name": "base",
   "language": "python",
   "name": "python3"
  },
  "language_info": {
   "codemirror_mode": {
    "name": "ipython",
    "version": 3
   },
   "file_extension": ".py",
   "mimetype": "text/x-python",
   "name": "python",
   "nbconvert_exporter": "python",
   "pygments_lexer": "ipython3",
   "version": "3.11.5"
  }
 },
 "nbformat": 4,
 "nbformat_minor": 2
}
